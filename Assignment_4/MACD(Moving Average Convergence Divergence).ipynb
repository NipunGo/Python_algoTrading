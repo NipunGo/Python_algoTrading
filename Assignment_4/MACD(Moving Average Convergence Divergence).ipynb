{
 "cells": [
  {
   "cell_type": "markdown",
   "metadata": {},
   "source": [
    "# Finance & Analytics Club"
   ]
  },
  {
   "cell_type": "markdown",
   "metadata": {},
   "source": [
    "## MACD (Moving Average Convergence Divergence)\n",
    "\n",
    "It is a trend following momentum indicator which is calculated by taking the difference of 2 exponential moving averages of an asset price (typically 26 period EMA and 12 period EMA).\n",
    "\n",
    "A signal line is also calculated which is moving average of MACD line(typically 9 period) calculated in the above step.\n",
    "\n",
    "The MACD line cutting the signal line from below signals a bullish period and the former cutting the latter from above signals a bearish period. This is called crossover strategy.\n",
    "\n",
    "Many false-positives, expecially during sideways market.\n",
    "\n",
    "This indicator is used in conjuction with other indicators.\n",
    "\n",
    "More info at - \"https://www.investopedia.com/terms/m/macd.asp\""
   ]
  },
  {
   "cell_type": "markdown",
   "metadata": {},
   "source": [
    "Import necessary libraries\n"
   ]
  },
  {
   "cell_type": "code",
   "execution_count": 1,
   "metadata": {},
   "outputs": [],
   "source": [
    "import pandas_datareader.data as pdr\n",
    "import datetime as dt\n",
    "import matplotlib.pyplot as plt"
   ]
  },
  {
   "cell_type": "markdown",
   "metadata": {},
   "source": [
    "Download historical data for required stocks"
   ]
  },
  {
   "cell_type": "code",
   "execution_count": 13,
   "metadata": {},
   "outputs": [],
   "source": [
    "ticker = \"RELIANCE.NS\"\n",
    "ohlcv = pdr.get_data_yahoo(ticker,dt.date.today()-dt.timedelta(1825),dt.date.today())"
   ]
  },
  {
   "cell_type": "code",
   "execution_count": 14,
   "metadata": {},
   "outputs": [
    {
     "data": {
      "text/html": [
       "<div>\n",
       "<style scoped>\n",
       "    .dataframe tbody tr th:only-of-type {\n",
       "        vertical-align: middle;\n",
       "    }\n",
       "\n",
       "    .dataframe tbody tr th {\n",
       "        vertical-align: top;\n",
       "    }\n",
       "\n",
       "    .dataframe thead th {\n",
       "        text-align: right;\n",
       "    }\n",
       "</style>\n",
       "<table border=\"1\" class=\"dataframe\">\n",
       "  <thead>\n",
       "    <tr style=\"text-align: right;\">\n",
       "      <th></th>\n",
       "      <th>High</th>\n",
       "      <th>Low</th>\n",
       "      <th>Open</th>\n",
       "      <th>Close</th>\n",
       "      <th>Volume</th>\n",
       "      <th>Adj Close</th>\n",
       "    </tr>\n",
       "    <tr>\n",
       "      <th>Date</th>\n",
       "      <th></th>\n",
       "      <th></th>\n",
       "      <th></th>\n",
       "      <th></th>\n",
       "      <th></th>\n",
       "      <th></th>\n",
       "    </tr>\n",
       "  </thead>\n",
       "  <tbody>\n",
       "    <tr>\n",
       "      <td>2015-04-06</td>\n",
       "      <td>419.000000</td>\n",
       "      <td>410.700012</td>\n",
       "      <td>418.000000</td>\n",
       "      <td>412.325012</td>\n",
       "      <td>5638734.0</td>\n",
       "      <td>384.318604</td>\n",
       "    </tr>\n",
       "    <tr>\n",
       "      <td>2015-04-07</td>\n",
       "      <td>418.049988</td>\n",
       "      <td>413.024994</td>\n",
       "      <td>413.024994</td>\n",
       "      <td>416.424988</td>\n",
       "      <td>9726422.0</td>\n",
       "      <td>388.140106</td>\n",
       "    </tr>\n",
       "    <tr>\n",
       "      <td>2015-04-08</td>\n",
       "      <td>434.750000</td>\n",
       "      <td>416.450012</td>\n",
       "      <td>416.750000</td>\n",
       "      <td>432.950012</td>\n",
       "      <td>11347420.0</td>\n",
       "      <td>403.542664</td>\n",
       "    </tr>\n",
       "    <tr>\n",
       "      <td>2015-04-09</td>\n",
       "      <td>449.500000</td>\n",
       "      <td>429.399994</td>\n",
       "      <td>432.750000</td>\n",
       "      <td>447.549988</td>\n",
       "      <td>12469862.0</td>\n",
       "      <td>417.150970</td>\n",
       "    </tr>\n",
       "    <tr>\n",
       "      <td>2015-04-10</td>\n",
       "      <td>454.399994</td>\n",
       "      <td>444.549988</td>\n",
       "      <td>447.475006</td>\n",
       "      <td>452.174988</td>\n",
       "      <td>11576924.0</td>\n",
       "      <td>421.461823</td>\n",
       "    </tr>\n",
       "    <tr>\n",
       "      <td>...</td>\n",
       "      <td>...</td>\n",
       "      <td>...</td>\n",
       "      <td>...</td>\n",
       "      <td>...</td>\n",
       "      <td>...</td>\n",
       "      <td>...</td>\n",
       "    </tr>\n",
       "    <tr>\n",
       "      <td>2020-03-26</td>\n",
       "      <td>1116.900024</td>\n",
       "      <td>1042.349976</td>\n",
       "      <td>1095.800049</td>\n",
       "      <td>1066.199951</td>\n",
       "      <td>20912841.0</td>\n",
       "      <td>1066.199951</td>\n",
       "    </tr>\n",
       "    <tr>\n",
       "      <td>2020-03-27</td>\n",
       "      <td>1107.300049</td>\n",
       "      <td>1046.199951</td>\n",
       "      <td>1095.000000</td>\n",
       "      <td>1065.599976</td>\n",
       "      <td>19044609.0</td>\n",
       "      <td>1065.599976</td>\n",
       "    </tr>\n",
       "    <tr>\n",
       "      <td>2020-03-30</td>\n",
       "      <td>1074.800049</td>\n",
       "      <td>1020.000000</td>\n",
       "      <td>1040.599976</td>\n",
       "      <td>1030.449951</td>\n",
       "      <td>13820078.0</td>\n",
       "      <td>1030.449951</td>\n",
       "    </tr>\n",
       "    <tr>\n",
       "      <td>2020-03-31</td>\n",
       "      <td>1129.800049</td>\n",
       "      <td>1048.000000</td>\n",
       "      <td>1073.949951</td>\n",
       "      <td>1113.750000</td>\n",
       "      <td>20249183.0</td>\n",
       "      <td>1113.750000</td>\n",
       "    </tr>\n",
       "    <tr>\n",
       "      <td>2020-04-01</td>\n",
       "      <td>1124.599976</td>\n",
       "      <td>1045.199951</td>\n",
       "      <td>1122.250000</td>\n",
       "      <td>1080.449951</td>\n",
       "      <td>19016959.0</td>\n",
       "      <td>1080.449951</td>\n",
       "    </tr>\n",
       "  </tbody>\n",
       "</table>\n",
       "<p>1230 rows × 6 columns</p>\n",
       "</div>"
      ],
      "text/plain": [
       "                   High          Low         Open        Close      Volume  \\\n",
       "Date                                                                         \n",
       "2015-04-06   419.000000   410.700012   418.000000   412.325012   5638734.0   \n",
       "2015-04-07   418.049988   413.024994   413.024994   416.424988   9726422.0   \n",
       "2015-04-08   434.750000   416.450012   416.750000   432.950012  11347420.0   \n",
       "2015-04-09   449.500000   429.399994   432.750000   447.549988  12469862.0   \n",
       "2015-04-10   454.399994   444.549988   447.475006   452.174988  11576924.0   \n",
       "...                 ...          ...          ...          ...         ...   \n",
       "2020-03-26  1116.900024  1042.349976  1095.800049  1066.199951  20912841.0   \n",
       "2020-03-27  1107.300049  1046.199951  1095.000000  1065.599976  19044609.0   \n",
       "2020-03-30  1074.800049  1020.000000  1040.599976  1030.449951  13820078.0   \n",
       "2020-03-31  1129.800049  1048.000000  1073.949951  1113.750000  20249183.0   \n",
       "2020-04-01  1124.599976  1045.199951  1122.250000  1080.449951  19016959.0   \n",
       "\n",
       "              Adj Close  \n",
       "Date                     \n",
       "2015-04-06   384.318604  \n",
       "2015-04-07   388.140106  \n",
       "2015-04-08   403.542664  \n",
       "2015-04-09   417.150970  \n",
       "2015-04-10   421.461823  \n",
       "...                 ...  \n",
       "2020-03-26  1066.199951  \n",
       "2020-03-27  1065.599976  \n",
       "2020-03-30  1030.449951  \n",
       "2020-03-31  1113.750000  \n",
       "2020-04-01  1080.449951  \n",
       "\n",
       "[1230 rows x 6 columns]"
      ]
     },
     "execution_count": 14,
     "metadata": {},
     "output_type": "execute_result"
    }
   ],
   "source": [
    "ohlcv"
   ]
  },
  {
   "cell_type": "markdown",
   "metadata": {},
   "source": [
    "#### Function to calculate MACD typical values a = 12; b =26, c =9"
   ]
  },
  {
   "cell_type": "code",
   "execution_count": 15,
   "metadata": {},
   "outputs": [],
   "source": [
    "def MACD(DF,a,b,c):\n",
    "    df = DF.copy()\n",
    "    df[\"MA_Fast\"]=df[\"Adj Close\"].ewm(span=a,min_periods=a).mean() # ewm is Exponential Moving Average \n",
    "    df[\"MA_Slow\"]=df[\"Adj Close\"].ewm(span=b,min_periods=b).mean()\n",
    "    df[\"MACD\"]=df[\"MA_Fast\"]-df[\"MA_Slow\"]\n",
    "    df[\"Signal\"]=df[\"MACD\"].ewm(span=c,min_periods=c).mean()\n",
    "    df.dropna(inplace=True)\n",
    "    return df"
   ]
  },
  {
   "cell_type": "code",
   "execution_count": 16,
   "metadata": {},
   "outputs": [],
   "source": [
    "df = MACD(ohlcv, 12, 26, 9)"
   ]
  },
  {
   "cell_type": "code",
   "execution_count": 17,
   "metadata": {},
   "outputs": [
    {
     "data": {
      "text/html": [
       "<div>\n",
       "<style scoped>\n",
       "    .dataframe tbody tr th:only-of-type {\n",
       "        vertical-align: middle;\n",
       "    }\n",
       "\n",
       "    .dataframe tbody tr th {\n",
       "        vertical-align: top;\n",
       "    }\n",
       "\n",
       "    .dataframe thead th {\n",
       "        text-align: right;\n",
       "    }\n",
       "</style>\n",
       "<table border=\"1\" class=\"dataframe\">\n",
       "  <thead>\n",
       "    <tr style=\"text-align: right;\">\n",
       "      <th></th>\n",
       "      <th>High</th>\n",
       "      <th>Low</th>\n",
       "      <th>Open</th>\n",
       "      <th>Close</th>\n",
       "      <th>Volume</th>\n",
       "      <th>Adj Close</th>\n",
       "      <th>MA_Fast</th>\n",
       "      <th>MA_Slow</th>\n",
       "      <th>MACD</th>\n",
       "      <th>Signal</th>\n",
       "    </tr>\n",
       "    <tr>\n",
       "      <th>Date</th>\n",
       "      <th></th>\n",
       "      <th></th>\n",
       "      <th></th>\n",
       "      <th></th>\n",
       "      <th></th>\n",
       "      <th></th>\n",
       "      <th></th>\n",
       "      <th></th>\n",
       "      <th></th>\n",
       "      <th></th>\n",
       "    </tr>\n",
       "  </thead>\n",
       "  <tbody>\n",
       "    <tr>\n",
       "      <td>2019-11-08</td>\n",
       "      <td>1459.650024</td>\n",
       "      <td>1441.300049</td>\n",
       "      <td>1449.000000</td>\n",
       "      <td>1445.500000</td>\n",
       "      <td>5494844.0</td>\n",
       "      <td>1445.500000</td>\n",
       "      <td>1438.342321</td>\n",
       "      <td>1398.743409</td>\n",
       "      <td>39.598912</td>\n",
       "      <td>43.573067</td>\n",
       "    </tr>\n",
       "    <tr>\n",
       "      <td>2019-11-11</td>\n",
       "      <td>1444.250000</td>\n",
       "      <td>1422.550049</td>\n",
       "      <td>1439.099976</td>\n",
       "      <td>1427.800049</td>\n",
       "      <td>5192423.0</td>\n",
       "      <td>1427.800049</td>\n",
       "      <td>1436.720433</td>\n",
       "      <td>1400.895753</td>\n",
       "      <td>35.824680</td>\n",
       "      <td>42.023389</td>\n",
       "    </tr>\n",
       "    <tr>\n",
       "      <td>2019-11-13</td>\n",
       "      <td>1475.900024</td>\n",
       "      <td>1430.000000</td>\n",
       "      <td>1430.000000</td>\n",
       "      <td>1472.300049</td>\n",
       "      <td>11532364.0</td>\n",
       "      <td>1472.300049</td>\n",
       "      <td>1442.194220</td>\n",
       "      <td>1406.184960</td>\n",
       "      <td>36.009260</td>\n",
       "      <td>40.820564</td>\n",
       "    </tr>\n",
       "    <tr>\n",
       "      <td>2019-11-14</td>\n",
       "      <td>1481.599976</td>\n",
       "      <td>1455.800049</td>\n",
       "      <td>1476.000000</td>\n",
       "      <td>1462.750000</td>\n",
       "      <td>6518339.0</td>\n",
       "      <td>1462.750000</td>\n",
       "      <td>1445.356648</td>\n",
       "      <td>1410.374963</td>\n",
       "      <td>34.981685</td>\n",
       "      <td>39.652788</td>\n",
       "    </tr>\n",
       "    <tr>\n",
       "      <td>2019-11-15</td>\n",
       "      <td>1486.800049</td>\n",
       "      <td>1463.150024</td>\n",
       "      <td>1465.650024</td>\n",
       "      <td>1470.849976</td>\n",
       "      <td>7173674.0</td>\n",
       "      <td>1470.849976</td>\n",
       "      <td>1449.278698</td>\n",
       "      <td>1414.854593</td>\n",
       "      <td>34.424105</td>\n",
       "      <td>38.607051</td>\n",
       "    </tr>\n",
       "    <tr>\n",
       "      <td>...</td>\n",
       "      <td>...</td>\n",
       "      <td>...</td>\n",
       "      <td>...</td>\n",
       "      <td>...</td>\n",
       "      <td>...</td>\n",
       "      <td>...</td>\n",
       "      <td>...</td>\n",
       "      <td>...</td>\n",
       "      <td>...</td>\n",
       "      <td>...</td>\n",
       "    </tr>\n",
       "    <tr>\n",
       "      <td>2020-03-26</td>\n",
       "      <td>1116.900024</td>\n",
       "      <td>1042.349976</td>\n",
       "      <td>1095.800049</td>\n",
       "      <td>1066.199951</td>\n",
       "      <td>20912841.0</td>\n",
       "      <td>1066.199951</td>\n",
       "      <td>1051.626109</td>\n",
       "      <td>1160.725537</td>\n",
       "      <td>-109.099428</td>\n",
       "      <td>-112.627252</td>\n",
       "    </tr>\n",
       "    <tr>\n",
       "      <td>2020-03-27</td>\n",
       "      <td>1107.300049</td>\n",
       "      <td>1046.199951</td>\n",
       "      <td>1095.000000</td>\n",
       "      <td>1065.599976</td>\n",
       "      <td>19044609.0</td>\n",
       "      <td>1065.599976</td>\n",
       "      <td>1053.775934</td>\n",
       "      <td>1153.679199</td>\n",
       "      <td>-99.903265</td>\n",
       "      <td>-110.082455</td>\n",
       "    </tr>\n",
       "    <tr>\n",
       "      <td>2020-03-30</td>\n",
       "      <td>1074.800049</td>\n",
       "      <td>1020.000000</td>\n",
       "      <td>1040.599976</td>\n",
       "      <td>1030.449951</td>\n",
       "      <td>13820078.0</td>\n",
       "      <td>1030.449951</td>\n",
       "      <td>1050.187322</td>\n",
       "      <td>1144.551107</td>\n",
       "      <td>-94.363785</td>\n",
       "      <td>-106.938721</td>\n",
       "    </tr>\n",
       "    <tr>\n",
       "      <td>2020-03-31</td>\n",
       "      <td>1129.800049</td>\n",
       "      <td>1048.000000</td>\n",
       "      <td>1073.949951</td>\n",
       "      <td>1113.750000</td>\n",
       "      <td>20249183.0</td>\n",
       "      <td>1113.750000</td>\n",
       "      <td>1059.966195</td>\n",
       "      <td>1142.269543</td>\n",
       "      <td>-82.303348</td>\n",
       "      <td>-102.011646</td>\n",
       "    </tr>\n",
       "    <tr>\n",
       "      <td>2020-04-01</td>\n",
       "      <td>1124.599976</td>\n",
       "      <td>1045.199951</td>\n",
       "      <td>1122.250000</td>\n",
       "      <td>1080.449951</td>\n",
       "      <td>19016959.0</td>\n",
       "      <td>1080.449951</td>\n",
       "      <td>1063.117542</td>\n",
       "      <td>1137.690314</td>\n",
       "      <td>-74.572772</td>\n",
       "      <td>-96.523872</td>\n",
       "    </tr>\n",
       "  </tbody>\n",
       "</table>\n",
       "<p>100 rows × 10 columns</p>\n",
       "</div>"
      ],
      "text/plain": [
       "                   High          Low         Open        Close      Volume  \\\n",
       "Date                                                                         \n",
       "2019-11-08  1459.650024  1441.300049  1449.000000  1445.500000   5494844.0   \n",
       "2019-11-11  1444.250000  1422.550049  1439.099976  1427.800049   5192423.0   \n",
       "2019-11-13  1475.900024  1430.000000  1430.000000  1472.300049  11532364.0   \n",
       "2019-11-14  1481.599976  1455.800049  1476.000000  1462.750000   6518339.0   \n",
       "2019-11-15  1486.800049  1463.150024  1465.650024  1470.849976   7173674.0   \n",
       "...                 ...          ...          ...          ...         ...   \n",
       "2020-03-26  1116.900024  1042.349976  1095.800049  1066.199951  20912841.0   \n",
       "2020-03-27  1107.300049  1046.199951  1095.000000  1065.599976  19044609.0   \n",
       "2020-03-30  1074.800049  1020.000000  1040.599976  1030.449951  13820078.0   \n",
       "2020-03-31  1129.800049  1048.000000  1073.949951  1113.750000  20249183.0   \n",
       "2020-04-01  1124.599976  1045.199951  1122.250000  1080.449951  19016959.0   \n",
       "\n",
       "              Adj Close      MA_Fast      MA_Slow        MACD      Signal  \n",
       "Date                                                                       \n",
       "2019-11-08  1445.500000  1438.342321  1398.743409   39.598912   43.573067  \n",
       "2019-11-11  1427.800049  1436.720433  1400.895753   35.824680   42.023389  \n",
       "2019-11-13  1472.300049  1442.194220  1406.184960   36.009260   40.820564  \n",
       "2019-11-14  1462.750000  1445.356648  1410.374963   34.981685   39.652788  \n",
       "2019-11-15  1470.849976  1449.278698  1414.854593   34.424105   38.607051  \n",
       "...                 ...          ...          ...         ...         ...  \n",
       "2020-03-26  1066.199951  1051.626109  1160.725537 -109.099428 -112.627252  \n",
       "2020-03-27  1065.599976  1053.775934  1153.679199  -99.903265 -110.082455  \n",
       "2020-03-30  1030.449951  1050.187322  1144.551107  -94.363785 -106.938721  \n",
       "2020-03-31  1113.750000  1059.966195  1142.269543  -82.303348 -102.011646  \n",
       "2020-04-01  1080.449951  1063.117542  1137.690314  -74.572772  -96.523872  \n",
       "\n",
       "[100 rows x 10 columns]"
      ]
     },
     "execution_count": 17,
     "metadata": {},
     "output_type": "execute_result"
    }
   ],
   "source": [
    "df.tail(100) # shows last 100 data points in our dataframe"
   ]
  },
  {
   "cell_type": "code",
   "execution_count": 18,
   "metadata": {},
   "outputs": [
    {
     "data": {
      "text/plain": [
       "Text(0.5, 1.0, 'Volume')"
      ]
     },
     "execution_count": 18,
     "metadata": {},
     "output_type": "execute_result"
    },
    {
     "data": {
      "image/png": "[encoded data removed]",
      "text/plain": [
       "<Figure size 720x288 with 1 Axes>"
      ]
     },
     "metadata": {
      "needs_background": "light"
     },
     "output_type": "display_data"
    }
   ],
   "source": [
    "plt.figure(figsize = (10,4))\n",
    "plt.plot(df.iloc[-100:,4].index, df.iloc[-100:,4].values)\n",
    "plt.title('Volume')"
   ]
  },
  {
   "cell_type": "code",
   "execution_count": 19,
   "metadata": {
    "scrolled": true
   },
   "outputs": [
    {
     "data": {
      "text/plain": [
       "Text(0.5, 1.0, 'Adjusted Close Price')"
      ]
     },
     "execution_count": 19,
     "metadata": {},
     "output_type": "execute_result"
    },
    {
     "data": {
      "image/png": "[encoded data removed]",
      "text/plain": [
       "<Figure size 720x288 with 1 Axes>"
      ]
     },
     "metadata": {
      "needs_background": "light"
     },
     "output_type": "display_data"
    }
   ],
   "source": [
    "plt.figure(figsize = (10,4))\n",
    "plt.bar(df.iloc[-100:,5].index, df.iloc[-100:,5].values)\n",
    "plt.title('Adjusted Close Price')"
   ]
  },
  {
   "cell_type": "markdown",
   "metadata": {},
   "source": [
    "## Finally the MACD graph"
   ]
  },
  {
   "cell_type": "code",
   "execution_count": 20,
   "metadata": {},
   "outputs": [
    {
     "data": {
      "image/png": "[encoded data removed]",
      "text/plain": [
       "<Figure size 720x432 with 1 Axes>"
      ]
     },
     "metadata": {
      "needs_background": "light"
     },
     "output_type": "display_data"
    }
   ],
   "source": [
    "plt.figure(figsize = (10,6))\n",
    "plt.plot(df.iloc[-100:,[-2,-1]])\n",
    "plt.title('MACD')\n",
    "plt.legend(('MACD','Signal'),loc='best')\n",
    "\n",
    "plt.show()"
   ]
  },
  {
   "cell_type": "markdown",
   "metadata": {},
   "source": [
    "#### you can clearly see that initially there werea lot of false positives. "
   ]
  },
  {
   "cell_type": "code",
   "execution_count": null,
   "metadata": {},
   "outputs": [],
   "source": []
  }
 ],
 "metadata": {
  "kernelspec": {
   "display_name": "Python 3",
   "language": "python",
   "name": "python3"
  },
  "language_info": {
   "codemirror_mode": {
    "name": "ipython",
    "version": 3
   },
   "file_extension": ".py",
   "mimetype": "text/x-python",
   "name": "python",
   "nbconvert_exporter": "python",
   "pygments_lexer": "ipython3",
   "version": "3.8.1"
  }
 },
 "nbformat": 4,
 "nbformat_minor": 2
}
