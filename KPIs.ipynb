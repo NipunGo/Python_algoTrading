{
 "cells": [
  {
   "cell_type": "markdown",
   "metadata": {},
   "source": [
    "# Finance & Analytics Club\n",
    "\n",
    "## CAGR (Compounded Annual Growth Rate)\n",
    "\n",
    "CAGR is the annual rate of return realized by an asset/portfolio to reach its peak market value from its initial value.\n",
    "\n",
    "CAGR calculation assumes that the profits are continuously reinvested.\n",
    "\n",
    "It does not reflect investment rist therefore should always be used in conjunction with a volatility measure.\n",
    "\n",
    "More at: https://www.investopedia.com/terms/c/cagr.asp\n",
    "\n",
    "## Annualized Volatility\n",
    "\n",
    "It is represented by the standard deviation of the returns. Captures the variability of return from the mean return.\n",
    "\n",
    "It is a widely used method for risk, but does not capture tail risk.\n",
    "\n",
    "More at: https://www.investopedia.com/terms/v/volatility.asp\n",
    "\n",
    "## Sharpe Ratio\n",
    "\n",
    "It is the average return earned in excess of the free risk rate per unit of volatility.\n",
    "\n",
    "Sharpe ratio greater than 1 is good, greater than 2 is very good and greater than 3 is excellent.\n",
    "\n",
    "Investors pay close attention to this metric while comparing funds.\n",
    "\n",
    "More at: https://www.investopedia.com/terms/s/sharperatio.asp\n",
    "\n",
    "## Sortino Ratio\n",
    "\n",
    "It is a variation of Sharpe Ration which takes into account standard deviation of only negative returns.\n",
    "\n",
    "Sharpe Ratio fails to determine the difference between the upward and downward fluctuations, Sortino makes that distinction and therefore considers only harmful volatility.\n",
    "\n",
    "More at: https://www.investopedia.com/terms/s/sortinoratio.asp\n",
    "\n",
    "## Maximum Drawdown & Calmar Ratio\n",
    "\n",
    "Largest price drop in asset price over a specified time period is maximum dropdown.\n",
    "\n",
    "Investments with longer backtesting period will likely have larger maximum dropdown and therefore caution must be applied in comparing across strategies.\n",
    "\n",
    "Calmar Ratio is the ration between CAGR and maximum drawdown and it's measure of risk adjusted return.\n",
    "\n",
    "More at:https://www.investopedia.com/terms/m/maximum-drawdown-mdd.asp, https://www.investopedia.com/terms/c/calmarratio.asp\n",
    "\n",
    "Import necesary libraries"
   ]
  },
  {
   "cell_type": "code",
   "execution_count": 5,
   "metadata": {},
   "outputs": [],
   "source": [
    "import pandas_datareader.data as pdr\n",
    "import numpy as np\n",
    "import datetime as dt"
   ]
  },
  {
   "cell_type": "markdown",
   "metadata": {},
   "source": [
    "Download historical data for required stocks"
   ]
  },
  {
   "cell_type": "code",
   "execution_count": 2,
   "metadata": {},
   "outputs": [
    {
     "data": {
      "text/html": [
       "<div>\n",
       "<style scoped>\n",
       "    .dataframe tbody tr th:only-of-type {\n",
       "        vertical-align: middle;\n",
       "    }\n",
       "\n",
       "    .dataframe tbody tr th {\n",
       "        vertical-align: top;\n",
       "    }\n",
       "\n",
       "    .dataframe thead th {\n",
       "        text-align: right;\n",
       "    }\n",
       "</style>\n",
       "<table border=\"1\" class=\"dataframe\">\n",
       "  <thead>\n",
       "    <tr style=\"text-align: right;\">\n",
       "      <th></th>\n",
       "      <th>High</th>\n",
       "      <th>Low</th>\n",
       "      <th>Open</th>\n",
       "      <th>Close</th>\n",
       "      <th>Volume</th>\n",
       "      <th>Adj Close</th>\n",
       "    </tr>\n",
       "    <tr>\n",
       "      <th>Date</th>\n",
       "      <th></th>\n",
       "      <th></th>\n",
       "      <th></th>\n",
       "      <th></th>\n",
       "      <th></th>\n",
       "      <th></th>\n",
       "    </tr>\n",
       "  </thead>\n",
       "  <tbody>\n",
       "    <tr>\n",
       "      <td>2015-04-02</td>\n",
       "      <td>2072.169922</td>\n",
       "      <td>2057.320068</td>\n",
       "      <td>2060.030029</td>\n",
       "      <td>2066.959961</td>\n",
       "      <td>3095960000</td>\n",
       "      <td>2066.959961</td>\n",
       "    </tr>\n",
       "    <tr>\n",
       "      <td>2015-04-06</td>\n",
       "      <td>2086.989990</td>\n",
       "      <td>2056.520020</td>\n",
       "      <td>2064.870117</td>\n",
       "      <td>2080.620117</td>\n",
       "      <td>3302970000</td>\n",
       "      <td>2080.620117</td>\n",
       "    </tr>\n",
       "    <tr>\n",
       "      <td>2015-04-07</td>\n",
       "      <td>2089.810059</td>\n",
       "      <td>2076.100098</td>\n",
       "      <td>2080.790039</td>\n",
       "      <td>2076.330078</td>\n",
       "      <td>3065510000</td>\n",
       "      <td>2076.330078</td>\n",
       "    </tr>\n",
       "    <tr>\n",
       "      <td>2015-04-08</td>\n",
       "      <td>2086.689941</td>\n",
       "      <td>2073.300049</td>\n",
       "      <td>2076.939941</td>\n",
       "      <td>2081.899902</td>\n",
       "      <td>3265330000</td>\n",
       "      <td>2081.899902</td>\n",
       "    </tr>\n",
       "    <tr>\n",
       "      <td>2015-04-09</td>\n",
       "      <td>2093.310059</td>\n",
       "      <td>2074.290039</td>\n",
       "      <td>2081.290039</td>\n",
       "      <td>2091.179932</td>\n",
       "      <td>3172360000</td>\n",
       "      <td>2091.179932</td>\n",
       "    </tr>\n",
       "    <tr>\n",
       "      <td>...</td>\n",
       "      <td>...</td>\n",
       "      <td>...</td>\n",
       "      <td>...</td>\n",
       "      <td>...</td>\n",
       "      <td>...</td>\n",
       "      <td>...</td>\n",
       "    </tr>\n",
       "    <tr>\n",
       "      <td>2020-03-25</td>\n",
       "      <td>2571.419922</td>\n",
       "      <td>2407.530029</td>\n",
       "      <td>2457.770020</td>\n",
       "      <td>2475.560059</td>\n",
       "      <td>8285670000</td>\n",
       "      <td>2475.560059</td>\n",
       "    </tr>\n",
       "    <tr>\n",
       "      <td>2020-03-26</td>\n",
       "      <td>2637.010010</td>\n",
       "      <td>2500.719971</td>\n",
       "      <td>2501.290039</td>\n",
       "      <td>2630.070068</td>\n",
       "      <td>7753160000</td>\n",
       "      <td>2630.070068</td>\n",
       "    </tr>\n",
       "    <tr>\n",
       "      <td>2020-03-27</td>\n",
       "      <td>2615.909912</td>\n",
       "      <td>2520.020020</td>\n",
       "      <td>2555.870117</td>\n",
       "      <td>2541.469971</td>\n",
       "      <td>6194330000</td>\n",
       "      <td>2541.469971</td>\n",
       "    </tr>\n",
       "    <tr>\n",
       "      <td>2020-03-30</td>\n",
       "      <td>2631.800049</td>\n",
       "      <td>2545.280029</td>\n",
       "      <td>2558.979980</td>\n",
       "      <td>2626.649902</td>\n",
       "      <td>5746220000</td>\n",
       "      <td>2626.649902</td>\n",
       "    </tr>\n",
       "    <tr>\n",
       "      <td>2020-03-31</td>\n",
       "      <td>2641.389893</td>\n",
       "      <td>2571.149902</td>\n",
       "      <td>2614.689941</td>\n",
       "      <td>2584.590088</td>\n",
       "      <td>6568290000</td>\n",
       "      <td>2584.590088</td>\n",
       "    </tr>\n",
       "  </tbody>\n",
       "</table>\n",
       "<p>1258 rows × 6 columns</p>\n",
       "</div>"
      ],
      "text/plain": [
       "                   High          Low         Open        Close      Volume  \\\n",
       "Date                                                                         \n",
       "2015-04-02  2072.169922  2057.320068  2060.030029  2066.959961  3095960000   \n",
       "2015-04-06  2086.989990  2056.520020  2064.870117  2080.620117  3302970000   \n",
       "2015-04-07  2089.810059  2076.100098  2080.790039  2076.330078  3065510000   \n",
       "2015-04-08  2086.689941  2073.300049  2076.939941  2081.899902  3265330000   \n",
       "2015-04-09  2093.310059  2074.290039  2081.290039  2091.179932  3172360000   \n",
       "...                 ...          ...          ...          ...         ...   \n",
       "2020-03-25  2571.419922  2407.530029  2457.770020  2475.560059  8285670000   \n",
       "2020-03-26  2637.010010  2500.719971  2501.290039  2630.070068  7753160000   \n",
       "2020-03-27  2615.909912  2520.020020  2555.870117  2541.469971  6194330000   \n",
       "2020-03-30  2631.800049  2545.280029  2558.979980  2626.649902  5746220000   \n",
       "2020-03-31  2641.389893  2571.149902  2614.689941  2584.590088  6568290000   \n",
       "\n",
       "              Adj Close  \n",
       "Date                     \n",
       "2015-04-02  2066.959961  \n",
       "2015-04-06  2080.620117  \n",
       "2015-04-07  2076.330078  \n",
       "2015-04-08  2081.899902  \n",
       "2015-04-09  2091.179932  \n",
       "...                 ...  \n",
       "2020-03-25  2475.560059  \n",
       "2020-03-26  2630.070068  \n",
       "2020-03-27  2541.469971  \n",
       "2020-03-30  2626.649902  \n",
       "2020-03-31  2584.590088  \n",
       "\n",
       "[1258 rows x 6 columns]"
      ]
     },
     "execution_count": 2,
     "metadata": {},
     "output_type": "execute_result"
    }
   ],
   "source": [
    "ticker = \"^GSPC\"\n",
    "SnP = pdr.get_data_yahoo(ticker,dt.date.today()-dt.timedelta(1825),dt.date.today())\n",
    "SnP"
   ]
  },
  {
   "cell_type": "markdown",
   "metadata": {},
   "source": [
    " ### Function to calculate the Cumulative Annual Growth Rate of a trading strategy"
   ]
  },
  {
   "cell_type": "code",
   "execution_count": 3,
   "metadata": {},
   "outputs": [],
   "source": [
    "def CAGR(DF):\n",
    "    df = DF.copy()\n",
    "    df[\"daily_ret\"] = DF[\"Adj Close\"].pct_change()\n",
    "    df[\"cum_return\"] = (1 + df[\"daily_ret\"]).cumprod()\n",
    "    n = len(df)/252 # number of years, 252 is number of trading days in a year, use 52/12 if you have weekly/monthly data\n",
    "    CAGR = (df[\"cum_return\"][-1])**(1/n) - 1\n",
    "    return CAGR"
   ]
  },
  {
   "cell_type": "code",
   "execution_count": 4,
   "metadata": {},
   "outputs": [
    {
     "data": {
      "text/plain": [
       "0.04578590378527769"
      ]
     },
     "execution_count": 4,
     "metadata": {},
     "output_type": "execute_result"
    }
   ],
   "source": [
    "CAGR = CAGR(SnP)\n",
    "CAGR"
   ]
  },
  {
   "cell_type": "markdown",
   "metadata": {},
   "source": [
    "### Function to calculate annualized volatility of a trading strategy"
   ]
  },
  {
   "cell_type": "code",
   "execution_count": 6,
   "metadata": {},
   "outputs": [],
   "source": [
    "def volatility(DF):\n",
    "    df = DF.copy()\n",
    "    df[\"daily_ret\"] = DF[\"Adj Close\"].pct_change()\n",
    "    vol = df[\"daily_ret\"].std() * np.sqrt(252) # use 52/12 if you have weekly/monthly data\n",
    "    return vol"
   ]
  },
  {
   "cell_type": "code",
   "execution_count": 7,
   "metadata": {},
   "outputs": [
    {
     "data": {
      "text/plain": [
       "0.181615767541847"
      ]
     },
     "execution_count": 7,
     "metadata": {},
     "output_type": "execute_result"
    }
   ],
   "source": [
    "vol = volatility(SnP)\n",
    "vol"
   ]
  },
  {
   "cell_type": "markdown",
   "metadata": {},
   "source": [
    "### Function to calculate sharpe ratio ; rf is the risk free rate"
   ]
  },
  {
   "cell_type": "code",
   "execution_count": 35,
   "metadata": {},
   "outputs": [],
   "source": [
    "def sharpe(DF,rf):\n",
    "    sr = (CAGR - rf)/vol\n",
    "    return sr"
   ]
  },
  {
   "cell_type": "code",
   "execution_count": 36,
   "metadata": {},
   "outputs": [
    {
     "data": {
      "text/plain": [
       "-0.09478304911359595"
      ]
     },
     "execution_count": 36,
     "metadata": {},
     "output_type": "execute_result"
    }
   ],
   "source": [
    "sharpe = sharpe(SnP, 0.063) # risk free rate in india is about 6.3%\n",
    "sharpe"
   ]
  },
  {
   "cell_type": "markdown",
   "metadata": {},
   "source": [
    "### Function to calculate sortino ratio ; rf is the risk free rate"
   ]
  },
  {
   "cell_type": "code",
   "execution_count": 37,
   "metadata": {},
   "outputs": [],
   "source": [
    "def sortino(DF,rf):\n",
    "    df = DF.copy()\n",
    "    df[\"daily_ret\"] = DF[\"Adj Close\"].pct_change()\n",
    "    neg_vol = df[df[\"daily_ret\"]<0][\"daily_ret\"].std() * np.sqrt(252)\n",
    "    sr = (CAGR - rf)/neg_vol\n",
    "    return sr"
   ]
  },
  {
   "cell_type": "code",
   "execution_count": 38,
   "metadata": {},
   "outputs": [
    {
     "data": {
      "text/plain": [
       "-0.1040103385704127"
      ]
     },
     "execution_count": 38,
     "metadata": {},
     "output_type": "execute_result"
    }
   ],
   "source": [
    "sortino  = sortino(SnP, 0.063) # risk free rate in india is about 6.3%\n",
    "sortino"
   ]
  },
  {
   "cell_type": "markdown",
   "metadata": {},
   "source": [
    "### Function to calculate max drawdown"
   ]
  },
  {
   "cell_type": "code",
   "execution_count": 39,
   "metadata": {},
   "outputs": [],
   "source": [
    "def max_dd(DF):\n",
    "    df = DF.copy()\n",
    "    df[\"daily_ret\"] = DF[\"Adj Close\"].pct_change()\n",
    "    df[\"cum_return\"] = (1 + df[\"daily_ret\"]).cumprod()\n",
    "    df[\"cum_roll_max\"] = df[\"cum_return\"].cummax()\n",
    "    df[\"drawdown\"] = df[\"cum_roll_max\"] - df[\"cum_return\"]\n",
    "    df[\"drawdown_pct\"] = df[\"drawdown\"]/df[\"cum_roll_max\"]\n",
    "    max_dd = df[\"drawdown_pct\"].max()\n",
    "    return max_dd"
   ]
  },
  {
   "cell_type": "code",
   "execution_count": 40,
   "metadata": {},
   "outputs": [
    {
     "data": {
      "text/plain": [
       "0.33924960002653304"
      ]
     },
     "execution_count": 40,
     "metadata": {},
     "output_type": "execute_result"
    }
   ],
   "source": [
    "mdd = max_dd(SnP)\n",
    "mdd"
   ]
  },
  {
   "cell_type": "markdown",
   "metadata": {},
   "source": [
    "### Function to calculate calmar ratio"
   ]
  },
  {
   "cell_type": "code",
   "execution_count": 41,
   "metadata": {},
   "outputs": [],
   "source": [
    "def calmar(DF):\n",
    "    clmr = CAGR/mdd\n",
    "    return clmr"
   ]
  },
  {
   "cell_type": "code",
   "execution_count": 42,
   "metadata": {},
   "outputs": [
    {
     "data": {
      "text/plain": [
       "0.13496229260608333"
      ]
     },
     "execution_count": 42,
     "metadata": {},
     "output_type": "execute_result"
    }
   ],
   "source": [
    "CLMR = calmar(SnP)\n",
    "CLMR"
   ]
  },
  {
   "cell_type": "code",
   "execution_count": null,
   "metadata": {},
   "outputs": [],
   "source": []
  }
 ],
 "metadata": {
  "kernelspec": {
   "display_name": "Python 3",
   "language": "python",
   "name": "python3"
  },
  "language_info": {
   "codemirror_mode": {
    "name": "ipython",
    "version": 3
   },
   "file_extension": ".py",
   "mimetype": "text/x-python",
   "name": "python",
   "nbconvert_exporter": "python",
   "pygments_lexer": "ipython3",
   "version": "3.7.4"
  }
 },
 "nbformat": 4,
 "nbformat_minor": 2
}
